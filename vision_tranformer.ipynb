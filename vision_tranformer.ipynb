{
  "nbformat": 4,
  "nbformat_minor": 0,
  "metadata": {
    "colab": {
      "provenance": [],
      "gpuType": "T4",
      "authorship_tag": "ABX9TyMUoAARx+RZd1X+kePWP9Hz",
      "include_colab_link": true
    },
    "kernelspec": {
      "name": "python3",
      "display_name": "Python 3"
    },
    "language_info": {
      "name": "python"
    },
    "accelerator": "GPU"
  },
  "cells": [
    {
      "cell_type": "markdown",
      "metadata": {
        "id": "view-in-github",
        "colab_type": "text"
      },
      "source": [
        "<a href=\"https://colab.research.google.com/github/pym96/Comparise_learning/blob/main/vision_tranformer.ipynb\" target=\"_parent\"><img src=\"https://colab.research.google.com/assets/colab-badge.svg\" alt=\"Open In Colab\"/></a>"
      ]
    },
    {
      "cell_type": "markdown",
      "source": [
        "# Image patching"
      ],
      "metadata": {
        "id": "yK3g2uO-yHgF"
      }
    },
    {
      "cell_type": "code",
      "execution_count": 15,
      "metadata": {
        "id": "Hb6buvgDw1N7"
      },
      "outputs": [],
      "source": [
        "import torch\n",
        "from torchvision.datasets import OxfordIIITPet\n",
        "import matplotlib.pyplot as plt\n",
        "from random import random\n",
        "from torchvision.transforms import Resize, ToTensor\n",
        "from torchvision.transforms.functional import to_pil_image\n",
        "\n",
        "to_tensor = [Resize((144,144)), ToTensor()]\n",
        "\n",
        "class Compose(object):\n",
        "  def __init__(self, transforms):\n",
        "    self.transforms = transforms\n",
        "  def __call__(self, image, target):\n",
        "    for t in self.transforms:\n",
        "      image = t(image)\n",
        "    return image, target"
      ]
    },
    {
      "cell_type": "code",
      "source": [
        "\n"
      ],
      "metadata": {
        "id": "OA7pFbjix3Jl"
      },
      "execution_count": null,
      "outputs": []
    },
    {
      "cell_type": "code",
      "source": [],
      "metadata": {
        "id": "z3gZVlJdx1w7"
      },
      "execution_count": 8,
      "outputs": []
    },
    {
      "cell_type": "code",
      "source": [],
      "metadata": {
        "id": "Wl9a1J3mx10m"
      },
      "execution_count": 8,
      "outputs": []
    },
    {
      "cell_type": "code",
      "source": [],
      "metadata": {
        "id": "WJWvH_Dox13M"
      },
      "execution_count": null,
      "outputs": []
    }
  ]
}