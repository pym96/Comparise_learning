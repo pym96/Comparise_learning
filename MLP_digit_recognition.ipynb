{
 "cells": [
  {
   "cell_type": "code",
   "execution_count": 18,
   "id": "358ecc97",
   "metadata": {},
   "outputs": [],
   "source": [
    "import torch\n",
    "import torch.nn as nn\n",
    "import torchvision\n",
    "import torchvision.transforms as transforms\n",
    "torch.manual_seed(0)\n",
    "import numpy as np\n",
    "import matplotlib.pyplot as plt\n",
    "from tqdm.notebook import tqdm # Smart progress meter\n",
    "from sklearn.metrics import classification_report, confusion_matrix"
   ]
  },
  {
   "cell_type": "code",
   "execution_count": 15,
   "id": "ea4cb9a4",
   "metadata": {},
   "outputs": [],
   "source": [
    "# Configure Device\n",
    "device = torch.device(\"cuda\" if torch.cuda.is_available() else \"cpu\")"
   ]
  },
  {
   "cell_type": "code",
   "execution_count": 21,
   "id": "a0fbcaae",
   "metadata": {},
   "outputs": [],
   "source": [
    "# MNIST Train-Test Datasets\n",
    "train_ds = torchvision.datasets.MNIST(root=\"./data\", train=True, transform=transforms.ToTensor(), download=True)\n",
    "test_ds = torchvision.datasets.MNIST(root=\"./data\", train=False, transform=transforms.ToTensor())"
   ]
  },
  {
   "cell_type": "code",
   "execution_count": 23,
   "id": "dd295133",
   "metadata": {},
   "outputs": [],
   "source": [
    "# Data loader\n",
    "train_dl = torch.utils.data.DataLoader(dataset = train_ds, batch_size=100, shuffle=True)\n",
    "test_dl = torch.utils.data.DataLoader(dataset = test_ds, batch_size=100, shuffle=False)"
   ]
  },
  {
   "cell_type": "code",
   "execution_count": 32,
   "id": "dd44ccd0",
   "metadata": {},
   "outputs": [],
   "source": [
    "# Show Some Examples\n",
    "examples = iter(test_dl)\n",
    "examples_images, example_targets = next(examples)"
   ]
  },
  {
   "cell_type": "code",
   "execution_count": 35,
   "id": "32dd6487",
   "metadata": {},
   "outputs": [
    {
     "data": {
      "image/png": "[encoded data removed]",
      "text/plain": [
       "<Figure size 432x288 with 8 Axes>"
      ]
     },
     "metadata": {
      "needs_background": "light"
     },
     "output_type": "display_data"
    }
   ],
   "source": [
    "for i in range(8):\n",
    "    plt.subplot(2,4,i+1)\n",
    "    plt.imshow(examples_images[i][0], cmap='gray')\n",
    "plt.show()"
   ]
  },
  {
   "cell_type": "code",
   "execution_count": 37,
   "id": "5db9c96f",
   "metadata": {},
   "outputs": [],
   "source": [
    "# Input size=784, since image size 28 x 28 = 784\n",
    "# Fully connected NN with two hidden layers\n",
    "class Net(nn.Module):\n",
    "    def __init__(self):\n",
    "        super(Net,self).__init__()\n",
    "        self.fc1 = nn.Linear(28 * 28, 200)\n",
    "        self.fc2 = nn.Linear(200, 50)\n",
    "        self.fc3 = nn.Linear(50, 10) # 10 Classes\n",
    "    \n",
    "    def forward(self, x):\n",
    "        x = torch.relu(self.fc1(x))\n",
    "        x = torch.relu(self.fc2(x))\n",
    "        x = self.fc3(x)\n",
    "        # No activation needed at the end\n",
    "        return x\n",
    "\n",
    "model = Net().to(device)"
   ]
  },
  {
   "cell_type": "code",
   "execution_count": 39,
   "id": "57b4c68c",
   "metadata": {},
   "outputs": [],
   "source": [
    "# Criterion (Loss) and Optimizer\n",
    "criterion =nn.CrossEntropyLoss()\n",
    "optim = torch.optim.Adam(model.parameters(), lr = 1e-3)"
   ]
  },
  {
   "cell_type": "code",
   "execution_count": 57,
   "id": "bfe63d37",
   "metadata": {},
   "outputs": [
    {
     "data": {
      "application/vnd.jupyter.widget-view+json": {
       "model_id": "1555a2e5f01441cea6fd2b0331178211",
       "version_major": 2,
       "version_minor": 0
      },
      "text/plain": [
       "  0%|          | 0/3 [00:00<?, ?it/s]"
      ]
     },
     "metadata": {},
     "output_type": "display_data"
    },
    {
     "name": "stdout",
     "output_type": "stream",
     "text": [
      "[[ 970    0    0    0    3    0    2    2    2    1]\n",
      " [   0 1119    2    3    0    1    4    2    4    0]\n",
      " [   6    1  998    5    3    0    3    8    7    1]\n",
      " [   0    0    1  988    0    6    0    4    5    6]\n",
      " [   0    0    3    0  958    0    4    2    1   14]\n",
      " [   2    0    0    5    1  875    4    0    4    1]\n",
      " [   5    2    1    1    4    2  942    0    1    0]\n",
      " [   1    1    6    1    0    0    0 1015    1    3]\n",
      " [   8    1    1    4    4    7    3    2  938    6]\n",
      " [   1    2    0    3    8    4    1    3    2  985]]\n",
      "[98.97959184 98.59030837 96.70542636 97.82178218 97.55600815 98.0941704\n",
      " 98.32985386 98.73540856 96.30390144 97.62140733]\n",
      "              precision    recall  f1-score   support\n",
      "\n",
      "           0      0.977     0.990     0.983       980\n",
      "           1      0.994     0.986     0.990      1135\n",
      "           2      0.986     0.967     0.977      1032\n",
      "           3      0.978     0.978     0.978      1010\n",
      "           4      0.977     0.976     0.976       982\n",
      "           5      0.978     0.981     0.979       892\n",
      "           6      0.978     0.983     0.981       958\n",
      "           7      0.978     0.987     0.983      1028\n",
      "           8      0.972     0.963     0.968       974\n",
      "           9      0.969     0.976     0.972      1009\n",
      "\n",
      "    accuracy                          0.979     10000\n",
      "   macro avg      0.979     0.979     0.979     10000\n",
      "weighted avg      0.979     0.979     0.979     10000\n",
      "\n"
     ]
    }
   ],
   "source": [
    "# Training\n",
    "num_epochs = 3 # Number of epochs\n",
    "epochs = tqdm(range(num_epochs))\n",
    "\n",
    "for epoch in epochs:\n",
    "    train_loss = []\n",
    "    model.train()\n",
    "    for batch in (train_dl):\n",
    "        optim.zero_grad()\n",
    "        images = batch[0].reshape(-1, 28 * 28).to(device)\n",
    "        label = batch[1].to(device)\n",
    "        # Forward-pass\n",
    "        output = model(images)\n",
    "        loss = torch.nn.CrossEntropyLoss()(output.squeeze(-1), label)\n",
    "        # Backward-pass and optimize\n",
    "        loss.backward()\n",
    "        optim.step()\n",
    "        train_loss.append(loss.item())\n",
    "    \n",
    "    \n",
    "    loss_now = np.mean(train_loss)\n",
    "    epochs.set_postfix({'loss':loss_now})\n",
    "    \n",
    "# Test\n",
    "# Initialize the prediction and label lists(tensors)\n",
    "predlist = torch.zeros(0, dtype=torch.long, device='cpu')\n",
    "lbllist = torch.zeros(0, dtype=torch.long, device='cpu')\n",
    "\n",
    "with torch.no_grad():\n",
    "    for ims, labels in test_dl:\n",
    "        ims = ims.reshape(-1, 28 * 28).to(device)\n",
    "        labels = labels.to(device)\n",
    "        outputs = model(ims)\n",
    "        _, predicted = torch.max(outputs.data, 1)\n",
    "        # Append batch prediction results\n",
    "        predlist = torch.cat([predlist, predicted.view(-1).cpu()])\n",
    "        lbllist = torch.cat([lbllist, labels.view(-1).cpu()])\n",
    "        \n",
    "# Confusion matrix\n",
    "conf_mat = confusion_matrix(np.asarray(lbllist), np.asarray(predlist))\n",
    "print(conf_mat)\n",
    "# Per-class accuracy\n",
    "class_accuracy = 100 * conf_mat.diagonal() / conf_mat.sum(1)\n",
    "print(class_accuracy)\n",
    "# Report \n",
    "print(classification_report(np.asarray(lbllist),np.asarray(predlist),digits=3))"
   ]
  }
 ],
 "metadata": {
  "kernelspec": {
   "display_name": "Python 3 (ipykernel)",
   "language": "python",
   "name": "python3"
  },
  "language_info": {
   "codemirror_mode": {
    "name": "ipython",
    "version": 3
   },
   "file_extension": ".py",
   "mimetype": "text/x-python",
   "name": "python",
   "nbconvert_exporter": "python",
   "pygments_lexer": "ipython3",
   "version": "3.9.7"
  }
 },
 "nbformat": 4,
 "nbformat_minor": 5
}
